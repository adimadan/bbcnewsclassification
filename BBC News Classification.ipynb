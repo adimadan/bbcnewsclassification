{
 "cells": [
  {
   "cell_type": "markdown",
   "metadata": {},
   "source": [
    "# BBC News Classification\n",
    "BBC News classification competition is based on a public data from BBC comprised of 2225 articles, each labeled under one of 5 categories: business, entertainment, politics, sport or tech.\n",
    "\n",
    "The dataset is broken into 1490 records for training and 735 for testing. The goal is to build a system that can accurately classify previously unseen news articles into the right category.\n",
    "\n",
    "Also the evaluation metric used is \"Accuracy\".\n",
    "\n",
    "The data can be downloaded from the URL below:\n",
    "https://www.kaggle.com/competitions/learn-ai-bbc/data"
   ]
  },
  {
   "cell_type": "markdown",
   "metadata": {},
   "source": [
    "# 1. Importing libraries"
   ]
  },
  {
   "cell_type": "code",
   "execution_count": 1,
   "metadata": {},
   "outputs": [],
   "source": [
    "#import libraries\n",
    "import numpy as np \n",
    "import pandas as pd \n",
    "import seaborn as sns\n",
    "import matplotlib.pyplot as plt\n",
    "import os\n",
    "from time import time\n",
    "from sklearn.feature_extraction.text import TfidfVectorizer, CountVectorizer\n",
    "from sklearn.decomposition import NMF"
   ]
  },
  {
   "cell_type": "markdown",
   "metadata": {},
   "source": [
    "# 2. Importing data and EDA"
   ]
  },
  {
   "cell_type": "code",
   "execution_count": 2,
   "metadata": {},
   "outputs": [],
   "source": [
    "path_dir = 'learn-ai-bbc/'\n",
    "train_path = path_dir + 'BBC News Train.csv'\n",
    "sample_solution_path = path_dir + 'BBC News Sample Solution.csv'\n",
    "test_path = path_dir + 'BBC News Test.csv'\n",
    "\n",
    "train = pd.read_csv(train_path)\n",
    "sample_solution = pd.read_csv(sample_solution_path)\n",
    "test = pd.read_csv(test_path)"
   ]
  },
  {
   "cell_type": "code",
   "execution_count": 3,
   "metadata": {},
   "outputs": [
    {
     "data": {
      "text/html": [
       "<div>\n",
       "<style scoped>\n",
       "    .dataframe tbody tr th:only-of-type {\n",
       "        vertical-align: middle;\n",
       "    }\n",
       "\n",
       "    .dataframe tbody tr th {\n",
       "        vertical-align: top;\n",
       "    }\n",
       "\n",
       "    .dataframe thead th {\n",
       "        text-align: right;\n",
       "    }\n",
       "</style>\n",
       "<table border=\"1\" class=\"dataframe\">\n",
       "  <thead>\n",
       "    <tr style=\"text-align: right;\">\n",
       "      <th></th>\n",
       "      <th>ArticleId</th>\n",
       "      <th>Text</th>\n",
       "      <th>Category</th>\n",
       "    </tr>\n",
       "  </thead>\n",
       "  <tbody>\n",
       "    <tr>\n",
       "      <th>0</th>\n",
       "      <td>1833</td>\n",
       "      <td>worldcom ex-boss launches defence lawyers defe...</td>\n",
       "      <td>business</td>\n",
       "    </tr>\n",
       "    <tr>\n",
       "      <th>1</th>\n",
       "      <td>154</td>\n",
       "      <td>german business confidence slides german busin...</td>\n",
       "      <td>business</td>\n",
       "    </tr>\n",
       "    <tr>\n",
       "      <th>2</th>\n",
       "      <td>1101</td>\n",
       "      <td>bbc poll indicates economic gloom citizens in ...</td>\n",
       "      <td>business</td>\n",
       "    </tr>\n",
       "    <tr>\n",
       "      <th>3</th>\n",
       "      <td>1976</td>\n",
       "      <td>lifestyle  governs mobile choice  faster  bett...</td>\n",
       "      <td>tech</td>\n",
       "    </tr>\n",
       "    <tr>\n",
       "      <th>4</th>\n",
       "      <td>917</td>\n",
       "      <td>enron bosses in $168m payout eighteen former e...</td>\n",
       "      <td>business</td>\n",
       "    </tr>\n",
       "    <tr>\n",
       "      <th>5</th>\n",
       "      <td>1582</td>\n",
       "      <td>howard  truanted to play snooker  conservative...</td>\n",
       "      <td>politics</td>\n",
       "    </tr>\n",
       "    <tr>\n",
       "      <th>6</th>\n",
       "      <td>651</td>\n",
       "      <td>wales silent on grand slam talk rhys williams ...</td>\n",
       "      <td>sport</td>\n",
       "    </tr>\n",
       "    <tr>\n",
       "      <th>7</th>\n",
       "      <td>1797</td>\n",
       "      <td>french honour for director parker british film...</td>\n",
       "      <td>entertainment</td>\n",
       "    </tr>\n",
       "    <tr>\n",
       "      <th>8</th>\n",
       "      <td>2034</td>\n",
       "      <td>car giant hit by mercedes slump a slump in pro...</td>\n",
       "      <td>business</td>\n",
       "    </tr>\n",
       "    <tr>\n",
       "      <th>9</th>\n",
       "      <td>1866</td>\n",
       "      <td>fockers fuel festive film chart comedy meet th...</td>\n",
       "      <td>entertainment</td>\n",
       "    </tr>\n",
       "    <tr>\n",
       "      <th>10</th>\n",
       "      <td>1683</td>\n",
       "      <td>blair rejects iraq advice calls tony blair has...</td>\n",
       "      <td>politics</td>\n",
       "    </tr>\n",
       "    <tr>\n",
       "      <th>11</th>\n",
       "      <td>1153</td>\n",
       "      <td>housewives lift channel 4 ratings the debut of...</td>\n",
       "      <td>entertainment</td>\n",
       "    </tr>\n",
       "    <tr>\n",
       "      <th>12</th>\n",
       "      <td>1028</td>\n",
       "      <td>uk coal plunges into deeper loss shares in uk ...</td>\n",
       "      <td>business</td>\n",
       "    </tr>\n",
       "    <tr>\n",
       "      <th>13</th>\n",
       "      <td>812</td>\n",
       "      <td>bp surges ahead on high oil price oil giant bp...</td>\n",
       "      <td>business</td>\n",
       "    </tr>\n",
       "    <tr>\n",
       "      <th>14</th>\n",
       "      <td>707</td>\n",
       "      <td>ireland 21-19 argentina an injury-time dropped...</td>\n",
       "      <td>sport</td>\n",
       "    </tr>\n",
       "    <tr>\n",
       "      <th>15</th>\n",
       "      <td>1588</td>\n",
       "      <td>wenger signs new deal arsenal manager arsene w...</td>\n",
       "      <td>sport</td>\n",
       "    </tr>\n",
       "    <tr>\n",
       "      <th>16</th>\n",
       "      <td>342</td>\n",
       "      <td>u2 s desire to be number one u2  who have won ...</td>\n",
       "      <td>entertainment</td>\n",
       "    </tr>\n",
       "    <tr>\n",
       "      <th>17</th>\n",
       "      <td>486</td>\n",
       "      <td>hantuchova in dubai last eight daniela hantuch...</td>\n",
       "      <td>sport</td>\n",
       "    </tr>\n",
       "    <tr>\n",
       "      <th>18</th>\n",
       "      <td>1344</td>\n",
       "      <td>melzer shocks agassi in san jose second seed a...</td>\n",
       "      <td>sport</td>\n",
       "    </tr>\n",
       "    <tr>\n",
       "      <th>19</th>\n",
       "      <td>1552</td>\n",
       "      <td>moving mobile improves golf swing a mobile pho...</td>\n",
       "      <td>tech</td>\n",
       "    </tr>\n",
       "  </tbody>\n",
       "</table>\n",
       "</div>"
      ],
      "text/plain": [
       "    ArticleId                                               Text  \\\n",
       "0        1833  worldcom ex-boss launches defence lawyers defe...   \n",
       "1         154  german business confidence slides german busin...   \n",
       "2        1101  bbc poll indicates economic gloom citizens in ...   \n",
       "3        1976  lifestyle  governs mobile choice  faster  bett...   \n",
       "4         917  enron bosses in $168m payout eighteen former e...   \n",
       "5        1582  howard  truanted to play snooker  conservative...   \n",
       "6         651  wales silent on grand slam talk rhys williams ...   \n",
       "7        1797  french honour for director parker british film...   \n",
       "8        2034  car giant hit by mercedes slump a slump in pro...   \n",
       "9        1866  fockers fuel festive film chart comedy meet th...   \n",
       "10       1683  blair rejects iraq advice calls tony blair has...   \n",
       "11       1153  housewives lift channel 4 ratings the debut of...   \n",
       "12       1028  uk coal plunges into deeper loss shares in uk ...   \n",
       "13        812  bp surges ahead on high oil price oil giant bp...   \n",
       "14        707  ireland 21-19 argentina an injury-time dropped...   \n",
       "15       1588  wenger signs new deal arsenal manager arsene w...   \n",
       "16        342  u2 s desire to be number one u2  who have won ...   \n",
       "17        486  hantuchova in dubai last eight daniela hantuch...   \n",
       "18       1344  melzer shocks agassi in san jose second seed a...   \n",
       "19       1552  moving mobile improves golf swing a mobile pho...   \n",
       "\n",
       "         Category  \n",
       "0        business  \n",
       "1        business  \n",
       "2        business  \n",
       "3            tech  \n",
       "4        business  \n",
       "5        politics  \n",
       "6           sport  \n",
       "7   entertainment  \n",
       "8        business  \n",
       "9   entertainment  \n",
       "10       politics  \n",
       "11  entertainment  \n",
       "12       business  \n",
       "13       business  \n",
       "14          sport  \n",
       "15          sport  \n",
       "16  entertainment  \n",
       "17          sport  \n",
       "18          sport  \n",
       "19           tech  "
      ]
     },
     "execution_count": 3,
     "metadata": {},
     "output_type": "execute_result"
    }
   ],
   "source": [
    "train.head(20)"
   ]
  },
  {
   "cell_type": "code",
   "execution_count": 189,
   "metadata": {},
   "outputs": [
    {
     "name": "stdout",
     "output_type": "stream",
     "text": [
      "<class 'pandas.core.frame.DataFrame'>\n",
      "RangeIndex: 1490 entries, 0 to 1489\n",
      "Data columns (total 3 columns):\n",
      "ArticleId    1490 non-null int64\n",
      "Text         1490 non-null object\n",
      "Category     1490 non-null object\n",
      "dtypes: int64(1), object(2)\n",
      "memory usage: 35.0+ KB\n"
     ]
    }
   ],
   "source": [
    "train.info()"
   ]
  },
  {
   "cell_type": "markdown",
   "metadata": {},
   "source": [
    "<b>'Text' is the main input unstructured data that we will be training on. 'Category' is what needs to be predicted. Let's perform some analysis on the 'Category' column to see how many unique categories are there and what's their distribution in this training data set.<b>"
   ]
  },
  {
   "cell_type": "code",
   "execution_count": 190,
   "metadata": {},
   "outputs": [
    {
     "data": {
      "text/plain": [
       "array(['business', 'tech', 'politics', 'sport', 'entertainment'],\n",
       "      dtype=object)"
      ]
     },
     "execution_count": 190,
     "metadata": {},
     "output_type": "execute_result"
    }
   ],
   "source": [
    "train.Category.unique()"
   ]
  },
  {
   "cell_type": "code",
   "execution_count": 191,
   "metadata": {},
   "outputs": [
    {
     "name": "stdout",
     "output_type": "stream",
     "text": [
      "               ArticleId  Text\n",
      "Category                      \n",
      "business             336   336\n",
      "entertainment        273   273\n",
      "politics             274   274\n",
      "sport                346   346\n",
      "tech                 261   261\n"
     ]
    }
   ],
   "source": [
    "category_df = train.groupby('Category').count()\n",
    "print(category_df)"
   ]
  },
  {
   "cell_type": "code",
   "execution_count": 192,
   "metadata": {},
   "outputs": [
    {
     "data": {
      "text/plain": [
       "<matplotlib.axes._subplots.AxesSubplot at 0x13a32546390>"
      ]
     },
     "execution_count": 192,
     "metadata": {},
     "output_type": "execute_result"
    },
    {
     "data": {
      "image/png": "[encoded data removed]",
      "text/plain": [
       "<Figure size 432x288 with 1 Axes>"
      ]
     },
     "metadata": {
      "needs_background": "light"
     },
     "output_type": "display_data"
    }
   ],
   "source": [
    "train.groupby('Category').Category.count().plot.bar(ylim=0)"
   ]
  },
  {
   "cell_type": "markdown",
   "metadata": {},
   "source": [
    "<b>There are 5 types of categories in the dataset and by their respective counts, they look almost balanced in their distribution which is good. </b>"
   ]
  },
  {
   "cell_type": "markdown",
   "metadata": {},
   "source": [
    "## 2.1 Text cleaning and standardization\n",
    "For any NLP task, it's important to clean and standardize text and one of the most common things is to convert to lowercase and remove punctuation characters. Additionally we can remove stopwords which are common words that don't add any value and use techniques like stemming or lemmatization to standardize similar words to their root form."
   ]
  },
  {
   "cell_type": "code",
   "execution_count": 193,
   "metadata": {},
   "outputs": [
    {
     "name": "stderr",
     "output_type": "stream",
     "text": [
      "[nltk_data] Downloading package stopwords to\n",
      "[nltk_data]     C:\\Users\\adi\\AppData\\Roaming\\nltk_data...\n",
      "[nltk_data]   Package stopwords is already up-to-date!\n"
     ]
    },
    {
     "data": {
      "text/html": [
       "<div>\n",
       "<style scoped>\n",
       "    .dataframe tbody tr th:only-of-type {\n",
       "        vertical-align: middle;\n",
       "    }\n",
       "\n",
       "    .dataframe tbody tr th {\n",
       "        vertical-align: top;\n",
       "    }\n",
       "\n",
       "    .dataframe thead th {\n",
       "        text-align: right;\n",
       "    }\n",
       "</style>\n",
       "<table border=\"1\" class=\"dataframe\">\n",
       "  <thead>\n",
       "    <tr style=\"text-align: right;\">\n",
       "      <th></th>\n",
       "      <th>ArticleId</th>\n",
       "      <th>Text</th>\n",
       "      <th>Category</th>\n",
       "      <th>Clean_Text</th>\n",
       "      <th>Word_Count</th>\n",
       "    </tr>\n",
       "  </thead>\n",
       "  <tbody>\n",
       "    <tr>\n",
       "      <th>0</th>\n",
       "      <td>1833</td>\n",
       "      <td>worldcom ex-boss launches defence lawyers defe...</td>\n",
       "      <td>business</td>\n",
       "      <td>worldcom exboss launch defence lawyer defendin...</td>\n",
       "      <td>191</td>\n",
       "    </tr>\n",
       "    <tr>\n",
       "      <th>1</th>\n",
       "      <td>154</td>\n",
       "      <td>german business confidence slides german busin...</td>\n",
       "      <td>business</td>\n",
       "      <td>german business confidence slide german busine...</td>\n",
       "      <td>203</td>\n",
       "    </tr>\n",
       "    <tr>\n",
       "      <th>2</th>\n",
       "      <td>1101</td>\n",
       "      <td>bbc poll indicates economic gloom citizens in ...</td>\n",
       "      <td>business</td>\n",
       "      <td>bbc poll indicates economic gloom citizen majo...</td>\n",
       "      <td>292</td>\n",
       "    </tr>\n",
       "    <tr>\n",
       "      <th>3</th>\n",
       "      <td>1976</td>\n",
       "      <td>lifestyle  governs mobile choice  faster  bett...</td>\n",
       "      <td>tech</td>\n",
       "      <td>lifestyle governs mobile choice faster better ...</td>\n",
       "      <td>353</td>\n",
       "    </tr>\n",
       "    <tr>\n",
       "      <th>4</th>\n",
       "      <td>917</td>\n",
       "      <td>enron bosses in $168m payout eighteen former e...</td>\n",
       "      <td>business</td>\n",
       "      <td>enron boss 168m payout eighteen former enron d...</td>\n",
       "      <td>211</td>\n",
       "    </tr>\n",
       "  </tbody>\n",
       "</table>\n",
       "</div>"
      ],
      "text/plain": [
       "   ArticleId                                               Text  Category  \\\n",
       "0       1833  worldcom ex-boss launches defence lawyers defe...  business   \n",
       "1        154  german business confidence slides german busin...  business   \n",
       "2       1101  bbc poll indicates economic gloom citizens in ...  business   \n",
       "3       1976  lifestyle  governs mobile choice  faster  bett...      tech   \n",
       "4        917  enron bosses in $168m payout eighteen former e...  business   \n",
       "\n",
       "                                          Clean_Text  Word_Count  \n",
       "0  worldcom exboss launch defence lawyer defendin...         191  \n",
       "1  german business confidence slide german busine...         203  \n",
       "2  bbc poll indicates economic gloom citizen majo...         292  \n",
       "3  lifestyle governs mobile choice faster better ...         353  \n",
       "4  enron boss 168m payout eighteen former enron d...         211  "
      ]
     },
     "execution_count": 193,
     "metadata": {},
     "output_type": "execute_result"
    }
   ],
   "source": [
    "# Text cleaning and normalization\n",
    "import re\n",
    "import nltk.corpus\n",
    "nltk.download('stopwords')\n",
    "from nltk.corpus import stopwords\n",
    "from nltk.stem import WordNetLemmatizer\n",
    "\n",
    "\n",
    "def cleanText(text):\n",
    "    text = re.sub(r'[^\\w\\s]', '', str(text).lower().strip())\n",
    "    stop = stopwords.words('english')\n",
    "    lemmatizer = WordNetLemmatizer()\n",
    "    text = \" \".join([lemmatizer.lemmatize(word) for word in text.split() if word not in (stop)])\n",
    "    return text\n",
    "\n",
    "\n",
    "train.loc[:,'Clean_Text'] = train.apply(lambda row: cleanText(row['Text']), axis=1)\n",
    "train.loc[:,'Word_Count'] = train.apply(lambda row: len(row['Clean_Text'].split()), axis=1)\n",
    "\n",
    "train.head()"
   ]
  },
  {
   "cell_type": "code",
   "execution_count": 194,
   "metadata": {},
   "outputs": [
    {
     "data": {
      "text/plain": [
       "(array([854., 522.,  98.,  10.,   2.,   1.,   0.,   2.,   0.,   1.]),\n",
       " array([  48. ,  212.7,  377.4,  542.1,  706.8,  871.5, 1036.2, 1200.9,\n",
       "        1365.6, 1530.3, 1695. ]),\n",
       " <a list of 10 Patch objects>)"
      ]
     },
     "execution_count": 194,
     "metadata": {},
     "output_type": "execute_result"
    },
    {
     "data": {
      "image/png": "[encoded data removed]",
      "text/plain": [
       "<Figure size 432x288 with 1 Axes>"
      ]
     },
     "metadata": {
      "needs_background": "light"
     },
     "output_type": "display_data"
    }
   ],
   "source": [
    "plt.hist(train.Word_Count)"
   ]
  },
  {
   "cell_type": "code",
   "execution_count": 211,
   "metadata": {},
   "outputs": [
    {
     "name": "stdout",
     "output_type": "stream",
     "text": [
      "1469\n"
     ]
    }
   ],
   "source": [
    "# filter out rows > 500\n",
    "len(train[train.Word_Count < 500])\n",
    "print(len(train))"
   ]
  },
  {
   "cell_type": "markdown",
   "metadata": {},
   "source": [
    "As we can see out of 1490 total documents, 1469 are less than 500 words, we could filter out the rest but will keep them for now."
   ]
  },
  {
   "cell_type": "code",
   "execution_count": 195,
   "metadata": {},
   "outputs": [
    {
     "data": {
      "text/html": [
       "<div>\n",
       "<style scoped>\n",
       "    .dataframe tbody tr th:only-of-type {\n",
       "        vertical-align: middle;\n",
       "    }\n",
       "\n",
       "    .dataframe tbody tr th {\n",
       "        vertical-align: top;\n",
       "    }\n",
       "\n",
       "    .dataframe thead th {\n",
       "        text-align: right;\n",
       "    }\n",
       "</style>\n",
       "<table border=\"1\" class=\"dataframe\">\n",
       "  <thead>\n",
       "    <tr style=\"text-align: right;\">\n",
       "      <th></th>\n",
       "      <th>ArticleId</th>\n",
       "      <th>Text</th>\n",
       "      <th>Category</th>\n",
       "      <th>Clean_Text</th>\n",
       "      <th>Word_Count</th>\n",
       "      <th>category_id</th>\n",
       "    </tr>\n",
       "  </thead>\n",
       "  <tbody>\n",
       "    <tr>\n",
       "      <th>0</th>\n",
       "      <td>1833</td>\n",
       "      <td>worldcom ex-boss launches defence lawyers defe...</td>\n",
       "      <td>business</td>\n",
       "      <td>worldcom exboss launch defence lawyer defendin...</td>\n",
       "      <td>191</td>\n",
       "      <td>0</td>\n",
       "    </tr>\n",
       "    <tr>\n",
       "      <th>1</th>\n",
       "      <td>154</td>\n",
       "      <td>german business confidence slides german busin...</td>\n",
       "      <td>business</td>\n",
       "      <td>german business confidence slide german busine...</td>\n",
       "      <td>203</td>\n",
       "      <td>0</td>\n",
       "    </tr>\n",
       "    <tr>\n",
       "      <th>2</th>\n",
       "      <td>1101</td>\n",
       "      <td>bbc poll indicates economic gloom citizens in ...</td>\n",
       "      <td>business</td>\n",
       "      <td>bbc poll indicates economic gloom citizen majo...</td>\n",
       "      <td>292</td>\n",
       "      <td>0</td>\n",
       "    </tr>\n",
       "    <tr>\n",
       "      <th>3</th>\n",
       "      <td>1976</td>\n",
       "      <td>lifestyle  governs mobile choice  faster  bett...</td>\n",
       "      <td>tech</td>\n",
       "      <td>lifestyle governs mobile choice faster better ...</td>\n",
       "      <td>353</td>\n",
       "      <td>1</td>\n",
       "    </tr>\n",
       "    <tr>\n",
       "      <th>4</th>\n",
       "      <td>917</td>\n",
       "      <td>enron bosses in $168m payout eighteen former e...</td>\n",
       "      <td>business</td>\n",
       "      <td>enron boss 168m payout eighteen former enron d...</td>\n",
       "      <td>211</td>\n",
       "      <td>0</td>\n",
       "    </tr>\n",
       "    <tr>\n",
       "      <th>5</th>\n",
       "      <td>1582</td>\n",
       "      <td>howard  truanted to play snooker  conservative...</td>\n",
       "      <td>politics</td>\n",
       "      <td>howard truanted play snooker conservative lead...</td>\n",
       "      <td>158</td>\n",
       "      <td>2</td>\n",
       "    </tr>\n",
       "    <tr>\n",
       "      <th>6</th>\n",
       "      <td>651</td>\n",
       "      <td>wales silent on grand slam talk rhys williams ...</td>\n",
       "      <td>sport</td>\n",
       "      <td>wale silent grand slam talk rhys williams say ...</td>\n",
       "      <td>191</td>\n",
       "      <td>3</td>\n",
       "    </tr>\n",
       "    <tr>\n",
       "      <th>7</th>\n",
       "      <td>1797</td>\n",
       "      <td>french honour for director parker british film...</td>\n",
       "      <td>entertainment</td>\n",
       "      <td>french honour director parker british film dir...</td>\n",
       "      <td>134</td>\n",
       "      <td>4</td>\n",
       "    </tr>\n",
       "    <tr>\n",
       "      <th>8</th>\n",
       "      <td>2034</td>\n",
       "      <td>car giant hit by mercedes slump a slump in pro...</td>\n",
       "      <td>business</td>\n",
       "      <td>car giant hit mercedes slump slump profitabili...</td>\n",
       "      <td>281</td>\n",
       "      <td>0</td>\n",
       "    </tr>\n",
       "    <tr>\n",
       "      <th>9</th>\n",
       "      <td>1866</td>\n",
       "      <td>fockers fuel festive film chart comedy meet th...</td>\n",
       "      <td>entertainment</td>\n",
       "      <td>fockers fuel festive film chart comedy meet fo...</td>\n",
       "      <td>155</td>\n",
       "      <td>4</td>\n",
       "    </tr>\n",
       "    <tr>\n",
       "      <th>10</th>\n",
       "      <td>1683</td>\n",
       "      <td>blair rejects iraq advice calls tony blair has...</td>\n",
       "      <td>politics</td>\n",
       "      <td>blair reject iraq advice call tony blair rejec...</td>\n",
       "      <td>320</td>\n",
       "      <td>2</td>\n",
       "    </tr>\n",
       "    <tr>\n",
       "      <th>11</th>\n",
       "      <td>1153</td>\n",
       "      <td>housewives lift channel 4 ratings the debut of...</td>\n",
       "      <td>entertainment</td>\n",
       "      <td>housewife lift channel 4 rating debut u televi...</td>\n",
       "      <td>127</td>\n",
       "      <td>4</td>\n",
       "    </tr>\n",
       "    <tr>\n",
       "      <th>12</th>\n",
       "      <td>1028</td>\n",
       "      <td>uk coal plunges into deeper loss shares in uk ...</td>\n",
       "      <td>business</td>\n",
       "      <td>uk coal plunge deeper loss share uk coal falle...</td>\n",
       "      <td>146</td>\n",
       "      <td>0</td>\n",
       "    </tr>\n",
       "    <tr>\n",
       "      <th>13</th>\n",
       "      <td>812</td>\n",
       "      <td>bp surges ahead on high oil price oil giant bp...</td>\n",
       "      <td>business</td>\n",
       "      <td>bp surge ahead high oil price oil giant bp ann...</td>\n",
       "      <td>193</td>\n",
       "      <td>0</td>\n",
       "    </tr>\n",
       "    <tr>\n",
       "      <th>14</th>\n",
       "      <td>707</td>\n",
       "      <td>ireland 21-19 argentina an injury-time dropped...</td>\n",
       "      <td>sport</td>\n",
       "      <td>ireland 2119 argentina injurytime dropped goal...</td>\n",
       "      <td>237</td>\n",
       "      <td>3</td>\n",
       "    </tr>\n",
       "    <tr>\n",
       "      <th>15</th>\n",
       "      <td>1588</td>\n",
       "      <td>wenger signs new deal arsenal manager arsene w...</td>\n",
       "      <td>sport</td>\n",
       "      <td>wenger sign new deal arsenal manager arsene we...</td>\n",
       "      <td>152</td>\n",
       "      <td>3</td>\n",
       "    </tr>\n",
       "    <tr>\n",
       "      <th>16</th>\n",
       "      <td>342</td>\n",
       "      <td>u2 s desire to be number one u2  who have won ...</td>\n",
       "      <td>entertainment</td>\n",
       "      <td>u2 desire number one u2 three prestigious gram...</td>\n",
       "      <td>450</td>\n",
       "      <td>4</td>\n",
       "    </tr>\n",
       "    <tr>\n",
       "      <th>17</th>\n",
       "      <td>486</td>\n",
       "      <td>hantuchova in dubai last eight daniela hantuch...</td>\n",
       "      <td>sport</td>\n",
       "      <td>hantuchova dubai last eight daniela hantuchova...</td>\n",
       "      <td>158</td>\n",
       "      <td>3</td>\n",
       "    </tr>\n",
       "    <tr>\n",
       "      <th>18</th>\n",
       "      <td>1344</td>\n",
       "      <td>melzer shocks agassi in san jose second seed a...</td>\n",
       "      <td>sport</td>\n",
       "      <td>melzer shock agassi san jose second seed andre...</td>\n",
       "      <td>121</td>\n",
       "      <td>3</td>\n",
       "    </tr>\n",
       "    <tr>\n",
       "      <th>19</th>\n",
       "      <td>1552</td>\n",
       "      <td>moving mobile improves golf swing a mobile pho...</td>\n",
       "      <td>tech</td>\n",
       "      <td>moving mobile improves golf swing mobile phone...</td>\n",
       "      <td>151</td>\n",
       "      <td>1</td>\n",
       "    </tr>\n",
       "  </tbody>\n",
       "</table>\n",
       "</div>"
      ],
      "text/plain": [
       "    ArticleId                                               Text  \\\n",
       "0        1833  worldcom ex-boss launches defence lawyers defe...   \n",
       "1         154  german business confidence slides german busin...   \n",
       "2        1101  bbc poll indicates economic gloom citizens in ...   \n",
       "3        1976  lifestyle  governs mobile choice  faster  bett...   \n",
       "4         917  enron bosses in $168m payout eighteen former e...   \n",
       "5        1582  howard  truanted to play snooker  conservative...   \n",
       "6         651  wales silent on grand slam talk rhys williams ...   \n",
       "7        1797  french honour for director parker british film...   \n",
       "8        2034  car giant hit by mercedes slump a slump in pro...   \n",
       "9        1866  fockers fuel festive film chart comedy meet th...   \n",
       "10       1683  blair rejects iraq advice calls tony blair has...   \n",
       "11       1153  housewives lift channel 4 ratings the debut of...   \n",
       "12       1028  uk coal plunges into deeper loss shares in uk ...   \n",
       "13        812  bp surges ahead on high oil price oil giant bp...   \n",
       "14        707  ireland 21-19 argentina an injury-time dropped...   \n",
       "15       1588  wenger signs new deal arsenal manager arsene w...   \n",
       "16        342  u2 s desire to be number one u2  who have won ...   \n",
       "17        486  hantuchova in dubai last eight daniela hantuch...   \n",
       "18       1344  melzer shocks agassi in san jose second seed a...   \n",
       "19       1552  moving mobile improves golf swing a mobile pho...   \n",
       "\n",
       "         Category                                         Clean_Text  \\\n",
       "0        business  worldcom exboss launch defence lawyer defendin...   \n",
       "1        business  german business confidence slide german busine...   \n",
       "2        business  bbc poll indicates economic gloom citizen majo...   \n",
       "3            tech  lifestyle governs mobile choice faster better ...   \n",
       "4        business  enron boss 168m payout eighteen former enron d...   \n",
       "5        politics  howard truanted play snooker conservative lead...   \n",
       "6           sport  wale silent grand slam talk rhys williams say ...   \n",
       "7   entertainment  french honour director parker british film dir...   \n",
       "8        business  car giant hit mercedes slump slump profitabili...   \n",
       "9   entertainment  fockers fuel festive film chart comedy meet fo...   \n",
       "10       politics  blair reject iraq advice call tony blair rejec...   \n",
       "11  entertainment  housewife lift channel 4 rating debut u televi...   \n",
       "12       business  uk coal plunge deeper loss share uk coal falle...   \n",
       "13       business  bp surge ahead high oil price oil giant bp ann...   \n",
       "14          sport  ireland 2119 argentina injurytime dropped goal...   \n",
       "15          sport  wenger sign new deal arsenal manager arsene we...   \n",
       "16  entertainment  u2 desire number one u2 three prestigious gram...   \n",
       "17          sport  hantuchova dubai last eight daniela hantuchova...   \n",
       "18          sport  melzer shock agassi san jose second seed andre...   \n",
       "19           tech  moving mobile improves golf swing mobile phone...   \n",
       "\n",
       "    Word_Count  category_id  \n",
       "0          191            0  \n",
       "1          203            0  \n",
       "2          292            0  \n",
       "3          353            1  \n",
       "4          211            0  \n",
       "5          158            2  \n",
       "6          191            3  \n",
       "7          134            4  \n",
       "8          281            0  \n",
       "9          155            4  \n",
       "10         320            2  \n",
       "11         127            4  \n",
       "12         146            0  \n",
       "13         193            0  \n",
       "14         237            3  \n",
       "15         152            3  \n",
       "16         450            4  \n",
       "17         158            3  \n",
       "18         121            3  \n",
       "19         151            1  "
      ]
     },
     "execution_count": 195,
     "metadata": {},
     "output_type": "execute_result"
    }
   ],
   "source": [
    "# we need to convert/map the Category column which is an object type to corresponding numeric calues for algorithms to process.\n",
    "possible_labels = train['Category'].unique()\n",
    "# Generate a dict mapping every Cateogry  to an id\n",
    "label_dict = {}\n",
    "for index, possible_label in enumerate(possible_labels):\n",
    "    label_dict[possible_label] = index\n",
    "    \n",
    "\n",
    "# Get a new encoded category column (category_id)\n",
    "train['category_id'] = train.Category.map(label_dict)\n",
    "\n",
    "train.head(20)"
   ]
  },
  {
   "cell_type": "code",
   "execution_count": 127,
   "metadata": {},
   "outputs": [
    {
     "name": "stdout",
     "output_type": "stream",
     "text": [
      "{'business': 0, 'tech': 1, 'politics': 2, 'sport': 3, 'entertainment': 4}\n"
     ]
    }
   ],
   "source": [
    "print(label_dict)"
   ]
  },
  {
   "cell_type": "markdown",
   "metadata": {},
   "source": [
    "# 3. Model training \n",
    "## 3.1 Text Preprocessing (TF-IDF) and Unsupervised learning using NMF\n",
    "Before we can feed raw text to any of the algorithms we need to convert it into numeric encodings. There are various approaches to do that like the basic ngram one-hot binary encodings or the one we are considering here which is the TF-IDF encodings (TF-IDF stands for \"term frequency, inverse document frequency\".) which takes into account the normalized counts/occurrences of the words in the entire dataset.<br>\n",
    "As per assignment requirement, we will use the Non-Negative Matrix Factorization (NMF) algorithm to build the model and check it's accuracy on the training and test sets.\n"
   ]
  },
  {
   "cell_type": "code",
   "execution_count": 205,
   "metadata": {},
   "outputs": [
    {
     "name": "stdout",
     "output_type": "stream",
     "text": [
      "Extracting tf-idf features for NMF...\n",
      "done in 0.415s.\n",
      "Fitting the NMF model (Frobenius norm) with tf-idf features\n",
      "done in 5.883s.\n",
      "trans_matrix shape: (1490, 5)\n",
      "[[2.30663574e-02 6.62950770e-09 1.23034658e-02 2.27277729e-03\n",
      "  8.26608880e-02]\n",
      " [1.12039686e-08 2.67441050e-12 3.74520274e-05 1.16392424e-15\n",
      "  1.33235955e-01]\n",
      " [8.80386123e-03 2.67379544e-06 4.86425791e-02 5.85428737e-07\n",
      "  8.46441429e-02]\n",
      " ...\n",
      " [1.09137055e-09 1.05557110e-10 1.14685098e-09 3.79549905e-11\n",
      "  1.15045713e-01]\n",
      " [1.60474647e-01 1.60835858e-05 9.71315099e-09 5.04146620e-05\n",
      "  1.21338603e-03]\n",
      " [1.19016789e-01 3.39628863e-08 2.77730743e-10 1.51447826e-14\n",
      "  4.87100371e-04]]\n",
      "sorted matrix:\n",
      "[[1 3 2 0 4]\n",
      " [3 1 0 2 4]\n",
      " [3 1 0 2 4]\n",
      " ...\n",
      " [3 1 0 2 4]\n",
      " [2 1 3 4 0]\n",
      " [3 2 1 4 0]]\n",
      "best topic order: (1, 3, 2, 4, 0) , accuracy: 0.9463087248322147\n"
     ]
    }
   ],
   "source": [
    "import scipy\n",
    "from sklearn.metrics import accuracy_score\n",
    "import itertools\n",
    "\n",
    "n_components = 5 # for 5 categories\n",
    "n_top_words = 20\n",
    "batch_size = 128\n",
    "init = \"nndsvda\"    \n",
    "\n",
    "\n",
    "def label_permute_compare(ytdf,yp,n=5):\n",
    "    \"\"\"\n",
    "    ytdf: labels dataframe object\n",
    "    yp: clustering label prediction output\n",
    "    Returns permuted label order and accuracy. \n",
    "    Example output: (3, 4, 1, 2, 0), 0.74 \n",
    "    \"\"\"\n",
    "    labelorder=[]\n",
    "    real_labels = []\n",
    "    real_labels = train['category_id'].values\n",
    "    for i in range(n):\n",
    "        idx = yp == i\n",
    "        new_label=scipy.stats.mode(real_labels[idx])[0][0]  # Choose the most common label among data points in the cluster\n",
    "        labelorder.append(new_label)\n",
    "    \n",
    "    new_labels = [ labelorder[label] for label in yp]\n",
    "    acc=accuracy_score(real_labels, new_labels)\n",
    "    return tuple(labelorder), acc\n",
    "\n",
    "\n",
    "def predict_topics(nmf, tfidf):\n",
    "    # get the transformed matrix\n",
    "    trans_matrix = nmf.transform(tfidf)\n",
    "    print('trans_matrix shape:',trans_matrix.shape)\n",
    "    print(trans_matrix)\n",
    "    print('sorted matrix:')\n",
    "    sorted_topic_matrix = np.argsort(trans_matrix)\n",
    "    print(sorted_topic_matrix)\n",
    "    n_predictions, maxValue = sorted_topic_matrix.shape\n",
    "    predictions = [[sorted_topic_matrix[i][maxValue - 1]] for i in range(n_predictions)]\n",
    "    topic_preds = np.array(predictions).reshape(-1,1).flatten()\n",
    "    return topic_preds\n",
    "    \n",
    "# Use tf-idf features for NMF.\n",
    "print(\"Extracting tf-idf features for NMF...\")\n",
    "#tfidf_vectorizer = TfidfVectorizer(max_df=0.95, min_df=2, norm = 'l2', stop_words=\"english\")\n",
    "tfidf_vectorizer = TfidfVectorizer(sublinear_tf=True, min_df=5, norm='l2', encoding='latin-1', ngram_range=(1, 1), stop_words='english')\n",
    "\n",
    "t0 = time()\n",
    "tfidf = tfidf_vectorizer.fit_transform(train.Clean_Text)\n",
    "print(\"done in %0.3fs.\" % (time() - t0))\n",
    "\n",
    "# Fit the NMF model\n",
    "print(\"Fitting the NMF model (kullback-leibler) with tf-idf features\")\n",
    "\n",
    "t0 = time()\n",
    "nmf = NMF(\n",
    "    n_components=n_components,\n",
    "    random_state=1,\n",
    "    init=init,\n",
    "    beta_loss=\"kullback-leibler\",\n",
    "    solver=\"mu\",\n",
    "    l1_ratio=0.5,\n",
    ").fit(tfidf)\n",
    "\n",
    "\n",
    "print(\"done in %0.3fs.\" % (time() - t0))\n",
    "\n",
    "topic_preds = predict_topics(nmf, tfidf)\n",
    "labelorder, acc = label_permute(train, topic_preds)\n",
    "print('best topic order:',labelorder, ', accuracy:', acc)\n",
    "\n"
   ]
  },
  {
   "cell_type": "markdown",
   "metadata": {},
   "source": [
    "### 3.1.1 Topic visualization based on the model results\n",
    "As a sanity check, it would be good to see what are the top words the NMF model is selecting per topic/category."
   ]
  },
  {
   "cell_type": "code",
   "execution_count": 198,
   "metadata": {},
   "outputs": [
    {
     "data": {
      "image/png": "[encoded data removed]",
      "text/plain": [
       "<Figure size 2160x1080 with 10 Axes>"
      ]
     },
     "metadata": {
      "needs_background": "light"
     },
     "output_type": "display_data"
    }
   ],
   "source": [
    "def plot_top_words(model, feature_names, n_top_words, title):\n",
    "    fig, axes = plt.subplots(2, 5, figsize=(30, 15), sharex=True)\n",
    "    axes = axes.flatten()\n",
    "    for topic_idx, topic in enumerate(model.components_):\n",
    "        top_features_ind = topic.argsort()[: -n_top_words - 1 : -1]\n",
    "        top_features = [feature_names[i] for i in top_features_ind]\n",
    "        weights = topic[top_features_ind]\n",
    "\n",
    "        ax = axes[topic_idx]\n",
    "        ax.barh(top_features, weights, height=0.7)\n",
    "        ax.set_title(f\"Topic {topic_idx +1}\", fontdict={\"fontsize\": 30})\n",
    "        ax.invert_yaxis()\n",
    "        ax.tick_params(axis=\"both\", which=\"major\", labelsize=20)\n",
    "        for i in \"top right left\".split():\n",
    "            ax.spines[i].set_visible(False)\n",
    "        fig.suptitle(title, fontsize=40)\n",
    "\n",
    "    plt.subplots_adjust(top=0.90, bottom=0.05, wspace=0.90, hspace=0.3)\n",
    "    plt.show()\n",
    "    \n",
    "tfidf_feature_names = tfidf_vectorizer.get_feature_names()\n",
    "plot_top_words(\n",
    "    nmf, tfidf_feature_names, n_top_words, \"Topics in NMF model (kullback-leibler)\"\n",
    ")\n",
    "\n",
    "\n",
    "\n"
   ]
  },
  {
   "cell_type": "markdown",
   "metadata": {},
   "source": [
    "Based on the above visualization, we can see the top 20 words for each topic and from those words one can visually validate that the model makes sense. For the best model: <br>\n",
    "Topic 1(0) is same as Category 1 (tech) <br>\n",
    "Topic 2(1) is same as Category 3 (sports) <br>\n",
    "Topic 3(2) is same as Category 2 (politics) <br>\n",
    "Topic 4(3) is same as Category 4 (sports) <br>\n",
    "Topic 5(4) is same as Category 0 (business) <br>"
   ]
  },
  {
   "cell_type": "code",
   "execution_count": 206,
   "metadata": {},
   "outputs": [
    {
     "name": "stdout",
     "output_type": "stream",
     "text": [
      "trans_matrix shape: (735, 5)\n",
      "[[2.07283139e-12 6.95598962e-02 2.81171888e-03 9.97830645e-03\n",
      "  6.39793164e-09]\n",
      " [1.18440027e-01 2.27241687e-11 2.41154383e-02 1.21730239e-08\n",
      "  5.28909993e-07]\n",
      " [2.08903012e-03 1.05976861e-01 1.76389211e-03 2.30641414e-07\n",
      "  1.35893299e-03]\n",
      " ...\n",
      " [3.33696672e-02 1.05979668e-02 4.75454999e-02 4.76129993e-03\n",
      "  2.65221490e-02]\n",
      " [6.83867247e-07 3.12493521e-03 2.72103494e-02 1.31324807e-11\n",
      "  6.66056305e-02]\n",
      " [1.11812073e-02 1.14859047e-05 1.16372692e-01 5.99074501e-03\n",
      "  1.48001196e-02]]\n",
      "sorted matrix:\n",
      "[[0 4 2 3 1]\n",
      " [1 3 4 2 0]\n",
      " [3 4 2 0 1]\n",
      " ...\n",
      " [3 1 4 0 2]\n",
      " [3 0 1 2 4]\n",
      " [1 3 0 4 2]]\n",
      "[1 0 1 4 1 1 2 2 3 4 4 0 2 0 3 1 2 0 3 0 4 2 1 4 2 1 4 1 1 4 2 0 4 4 1 1 1\n",
      " 4 3 2 2 2 3 0 1 3 3 4 2 4 2 4 4 4 0 2 0 3 1 0 1 3 0 2 4 3 1 0 1 1 0 1 4 2\n",
      " 0 1 0 0 0 3 2 1 3 3 2 3 4 3 4 0 2 2 1 0 1 1 1 1 1 1 2 1 2 3 4 1 2 1 2 3 1\n",
      " 4 3 1 2 1 2 1 2 4 3 4 3 4 0 1 4 3 4 3 4 2 2 0 4 4 2 0 3 1 4 0 1 3 2 1 1 3\n",
      " 3 0 4 0 2 3 1 1 1 1 3 0 4 0 4 0 4 3 3 0 0 2 4 2 4 4 3 2 0 4 4 0 1 2 1 2 0\n",
      " 0 2 4 2 0 2 4 3 1 0 0 4 0 2 4 1 2 4 3 4 4 1 0 4 1 3 3 1 3 1 0 2 3 1 3 1 3\n",
      " 2 2 0 3 4 2 4 0 4 1 2 2 4 2 1 4 4 2 1 2 4 1 0 4 2 4 2 4 4 1 0 2 0 0 3 0 1\n",
      " 1 0 1 1 1 3 1 2 0 4 1 4 1 4 1 3 4 4 3 2 4 1 1 0 1 1 3 4 1 0 2 3 4 4 2 1 3\n",
      " 2 4 1 1 0 3 1 4 0 4 1 2 2 3 2 3 2 4 2 0 4 1 0 3 2 1 2 2 0 2 1 0 2 0 0 3 0\n",
      " 0 2 4 2 1 0 3 3 2 1 0 0 3 0 4 1 3 0 4 2 0 0 2 2 1 4 0 1 2 2 4 0 1 2 4 2 2\n",
      " 0 3 4 4 1 1 1 0 0 2 0 2 2 4 1 1 3 2 1 0 0 1 0 3 2 0 1 4 2 3 4 0 1 2 4 4 2\n",
      " 0 1 2 4 0 4 0 0 1 2 4 0 1 2 4 0 0 2 0 4 2 4 3 4 3 0 3 1 4 2 4 1 3 4 3 3 1\n",
      " 0 3 0 4 2 3 2 2 1 4 1 2 3 3 2 4 1 2 0 4 2 0 1 1 2 1 0 4 2 1 2 0 4 2 0 2 2\n",
      " 3 0 1 1 2 4 0 2 1 1 3 4 3 3 4 2 1 2 0 0 4 2 1 4 1 4 2 2 1 2 0 1 2 4 0 2 1\n",
      " 2 3 1 2 4 4 4 0 2 2 1 4 0 0 0 1 0 2 0 4 1 4 2 4 0 0 1 0 4 1 4 4 4 2 2 3 3\n",
      " 3 2 0 0 2 3 4 1 1 2 3 2 1 4 4 4 3 0 1 4 2 2 0 2 1 2 4 0 4 1 1 0 1 3 0 2 0\n",
      " 1 2 2 0 2 2 3 2 4 4 0 2 4 4 1 3 4 1 0 1 0 4 2 1 4 1 1 2 2 0 1 4 1 4 1 1 2\n",
      " 0 0 0 4 1 0 4 3 2 3 1 0 4 4 4 2 1 3 0 4 1 3 4 3 4 2 1 1 4 0 1 2 4 4 3 4 3\n",
      " 0 1 2 0 2 0 1 0 3 4 4 2 2 2 1 1 3 0 2 3 1 1 2 0 2 3 1 3 1 0 0 1 2 4 0 3 4\n",
      " 0 4 4 1 3 2 3 0 2 4 2 1 3 0 2 3 4 0 3 3 2 2 4 2 2 0 1 4 3 2 4 2]\n"
     ]
    }
   ],
   "source": [
    "# test data processing and submission\n",
    "\n",
    "# clean test data\n",
    "test.loc[:,'Clean_Text'] = test.apply(lambda row: cleanText(row['Text']), axis=1)\n",
    "\n",
    "# same tfidf vectorizer is used that was fit on train set\n",
    "tfid_test = tfidf_vectorizer.transform(test['Clean_Text'])\n",
    "topic_preds_test = predict_topics(nmf, tfid_test)\n",
    "print(topic_preds_test)"
   ]
  },
  {
   "cell_type": "code",
   "execution_count": 209,
   "metadata": {},
   "outputs": [],
   "source": [
    "# create submission\n",
    "model_topic_dict = { 0:'tech', 1:'sports', 2:'politics', 3:'entertainment', 4:'business'}\n",
    "submission_df = pd.DataFrame(columns=['ArticleId', 'Category', 'topic_preds'])\n",
    "submission_df['ArticleId'] = test['ArticleId']\n",
    "submission_df['topic_preds'] = topic_preds_test\n",
    "submission_df['Category'] = submission_df['topic_preds'].apply(lambda i: model_topic_dict[i])\n",
    "\n",
    "submission_df = submission_df.drop('topic_preds', axis=1)\n",
    "submission_df.to_csv('submissionBBC_Final.csv', index=False)"
   ]
  },
  {
   "cell_type": "markdown",
   "metadata": {},
   "source": [
    "Although the training set accuracy was 0.9463, with the test set submission got scores of 0.7075(Public) and 0.7075(Private), given an unsupervised learning algorithm being used this is something we can expect. But we will get more clarity on this once we model with respect to supervised learning algorithms and evaluate and compare those results."
   ]
  },
  {
   "cell_type": "markdown",
   "metadata": {},
   "source": [
    "## 3.2 Comparison with Supervised training models \n",
    "### 3.2.1 Linear, Tree, KNN models\n",
    "It will be interesting to see how supervised learning models will perform so we take few popular models and evaluate the dataset on them. Also we will take this opportunity to perform cross validation which is a data resampling method to ensure that our models are generalizing well to new datasets on which prediction will be done."
   ]
  },
  {
   "cell_type": "code",
   "execution_count": 128,
   "metadata": {},
   "outputs": [
    {
     "name": "stderr",
     "output_type": "stream",
     "text": [
      "D:\\Anaconda3\\lib\\site-packages\\sklearn\\linear_model\\logistic.py:433: FutureWarning: Default solver will be changed to 'lbfgs' in 0.22. Specify a solver to silence this warning.\n",
      "  FutureWarning)\n",
      "D:\\Anaconda3\\lib\\site-packages\\sklearn\\linear_model\\logistic.py:460: FutureWarning: Default multi_class will be changed to 'auto' in 0.22. Specify the multi_class option to silence this warning.\n",
      "  \"this warning.\", FutureWarning)\n",
      "D:\\Anaconda3\\lib\\site-packages\\sklearn\\linear_model\\logistic.py:1297: UserWarning: 'n_jobs' > 1 does not have any effect when 'solver' is set to 'liblinear'. Got 'n_jobs' = 8.\n",
      "  \" = {}.\".format(effective_n_jobs(self.n_jobs)))\n",
      "D:\\Anaconda3\\lib\\site-packages\\sklearn\\linear_model\\logistic.py:1297: UserWarning: 'n_jobs' > 1 does not have any effect when 'solver' is set to 'liblinear'. Got 'n_jobs' = 8.\n",
      "  \" = {}.\".format(effective_n_jobs(self.n_jobs)))\n",
      "D:\\Anaconda3\\lib\\site-packages\\sklearn\\linear_model\\logistic.py:1297: UserWarning: 'n_jobs' > 1 does not have any effect when 'solver' is set to 'liblinear'. Got 'n_jobs' = 8.\n",
      "  \" = {}.\".format(effective_n_jobs(self.n_jobs)))\n",
      "D:\\Anaconda3\\lib\\site-packages\\sklearn\\linear_model\\logistic.py:1297: UserWarning: 'n_jobs' > 1 does not have any effect when 'solver' is set to 'liblinear'. Got 'n_jobs' = 8.\n",
      "  \" = {}.\".format(effective_n_jobs(self.n_jobs)))\n",
      "D:\\Anaconda3\\lib\\site-packages\\sklearn\\linear_model\\logistic.py:1297: UserWarning: 'n_jobs' > 1 does not have any effect when 'solver' is set to 'liblinear'. Got 'n_jobs' = 8.\n",
      "  \" = {}.\".format(effective_n_jobs(self.n_jobs)))\n",
      "D:\\Anaconda3\\lib\\site-packages\\sklearn\\linear_model\\stochastic_gradient.py:166: FutureWarning: max_iter and tol parameters have been added in SGDClassifier in 0.19. If both are left unset, they default to max_iter=5 and tol=None. If tol is not None, max_iter defaults to max_iter=1000. From 0.21, default max_iter will be 1000, and default tol will be 1e-3.\n",
      "  FutureWarning)\n"
     ]
    },
    {
     "name": "stdout",
     "output_type": "stream",
     "text": [
      "Running model: LR, mean accuracy: 0.97384 +/- 0.00645\n",
      "Running model: SGD, mean accuracy: 0.98124 +/- 0.00743\n",
      "Running model: Ridge, mean accuracy: 0.98055 +/- 0.00488\n",
      "Running model: MultinomialNB, mean accuracy: 0.96980 +/- 0.00422\n"
     ]
    },
    {
     "name": "stderr",
     "output_type": "stream",
     "text": [
      "D:\\Anaconda3\\lib\\site-packages\\sklearn\\svm\\base.py:196: FutureWarning: The default value of gamma will change from 'auto' to 'scale' in version 0.22 to account better for unscaled features. Set gamma explicitly to 'auto' or 'scale' to avoid this warning.\n",
      "  \"avoid this warning.\", FutureWarning)\n"
     ]
    },
    {
     "name": "stdout",
     "output_type": "stream",
     "text": [
      "Running model: SVM, mean accuracy: 0.23222 +/- 0.00060\n",
      "Running model: RandomForest, mean accuracy: 0.96310 +/- 0.01234\n",
      "Running model: KNN, mean accuracy: 0.95308 +/- 0.01540\n",
      "[3 1 3 0 3 3 2 2 4 0 0 1 2 1 4 3 2 1 4 4 0 2 3 0 2 3 0 3 3 0 2 1 0 0 3 3 3\n",
      " 0 4 4 1 2 4 1 3 1 4 0 2 0 2 0 0 0 1 2 1 4 3 1 3 4 1 2 0 4 3 1 3 3 0 3 0 2\n",
      " 1 3 1 1 1 4 2 3 4 4 0 4 0 4 0 1 0 2 3 1 3 3 3 3 3 3 2 3 2 4 0 3 2 3 2 4 3\n",
      " 0 4 3 2 3 2 3 2 0 4 0 4 4 1 3 0 4 0 4 0 2 2 1 0 0 2 1 4 3 0 1 3 4 2 3 3 4\n",
      " 4 1 0 1 2 1 3 3 3 3 4 1 0 1 0 1 0 1 4 1 1 2 0 2 0 0 4 2 1 0 0 1 3 2 3 2 1\n",
      " 1 2 0 2 4 2 0 4 3 1 1 0 1 2 0 3 2 0 4 0 0 3 1 0 3 4 4 3 4 3 1 2 4 3 4 3 4\n",
      " 2 0 1 4 0 2 0 1 0 3 2 2 2 2 3 0 4 2 3 2 0 3 1 0 2 0 2 0 0 3 1 2 4 1 4 1 3\n",
      " 3 1 3 3 3 4 3 2 1 0 3 0 3 0 3 4 0 0 4 2 0 3 3 1 3 3 4 0 3 1 2 4 0 0 2 3 4\n",
      " 2 0 3 3 1 4 3 0 1 0 3 2 2 4 2 4 2 0 2 1 0 3 1 4 2 3 2 2 1 2 3 1 2 1 1 4 2\n",
      " 1 2 0 2 3 1 4 4 0 3 1 1 4 1 0 3 4 1 0 2 1 1 2 2 3 0 1 3 2 2 0 1 3 2 0 2 2\n",
      " 1 4 0 0 3 3 3 1 1 2 1 1 2 0 3 3 4 4 3 1 1 3 1 4 2 1 3 0 2 4 0 1 3 2 0 0 2\n",
      " 1 3 4 0 1 0 1 3 3 2 0 1 3 2 0 0 1 2 1 0 2 0 4 0 4 2 4 3 0 2 0 3 4 0 4 4 3\n",
      " 1 4 0 0 2 4 2 2 3 0 3 2 4 4 0 0 3 2 1 0 2 0 3 3 2 3 1 0 2 3 2 1 0 2 1 2 2\n",
      " 4 1 3 3 2 0 1 2 3 3 4 0 4 4 0 2 3 0 1 1 0 2 3 0 3 0 2 0 3 2 1 3 2 0 1 2 3\n",
      " 2 4 3 2 0 0 0 1 2 2 3 0 1 1 1 3 1 2 0 0 3 4 2 0 1 1 3 1 0 3 0 0 0 2 2 4 4\n",
      " 4 2 1 1 2 4 0 3 3 2 4 2 3 0 0 0 4 1 3 0 2 2 1 2 3 2 0 1 0 3 3 1 3 4 1 4 1\n",
      " 3 2 0 1 2 4 4 2 0 0 1 0 0 0 3 4 0 3 0 3 1 0 2 3 0 3 3 4 2 1 3 0 3 0 3 3 2\n",
      " 1 0 1 0 3 1 0 4 0 4 3 1 0 0 0 2 3 4 1 0 3 4 0 4 0 2 3 3 0 1 3 0 0 0 4 0 4\n",
      " 1 3 2 1 2 1 3 1 4 0 0 4 2 3 3 3 4 1 2 4 3 3 2 1 2 4 3 4 3 1 1 3 3 0 1 4 0\n",
      " 1 0 0 3 4 2 4 0 2 0 2 3 1 1 2 4 0 1 4 4 2 0 0 2 2 1 3 0 4 2 0 2]\n"
     ]
    }
   ],
   "source": [
    "# import classifiers for supervised training\n",
    "from sklearn.linear_model import LogisticRegression\n",
    "from sklearn.ensemble import RandomForestClassifier\n",
    "from sklearn.naive_bayes import MultinomialNB\n",
    "from sklearn.ensemble import AdaBoostClassifier\n",
    "from sklearn.svm import SVC\n",
    "from sklearn.linear_model import SGDClassifier\n",
    "from sklearn.linear_model import RidgeClassifier\n",
    "from sklearn.neighbors import KNeighborsClassifier\n",
    "from sklearn.model_selection import cross_val_score\n",
    "\n",
    "tfidf_vectorizer = TfidfVectorizer(sublinear_tf=True, min_df=5, norm='l2', encoding='latin-1', ngram_range=(1, 1), stop_words='english')\n",
    "X_train = tfidf_vectorizer.fit_transform(train.Clean_Text)\n",
    "y_train = train['category_id']\n",
    "\n",
    "N_FOLDS = 5\n",
    "\n",
    "models = [('LR', LogisticRegression(n_jobs=-1)),\n",
    "           ('SGD', SGDClassifier(n_jobs=-1)),\n",
    "           ('Ridge', RidgeClassifier()), \n",
    "           ('MultinomialNB', MultinomialNB()), \n",
    "           ('SVM', SVC()),\n",
    "           ('RandomForest', RandomForestClassifier(n_estimators=200)), \n",
    "           ('KNN', KNeighborsClassifier(n_neighbors=5))]\n",
    "\n",
    "for (model_name, model) in models:\n",
    "    \n",
    "    # perform cross-validation\n",
    "    scores = cross_val_score(model, X_train, y_train, cv=N_FOLDS)\n",
    "    print('Running model: ' + model_name + ', mean accuracy: %.5f +/- %.5f' % (np.mean(scores), np.std(scores)))\n",
    "    \n",
    "\n",
    "# RidgeClassifier gave the best results so we will use that to make the submission\n",
    "best_model = RidgeClassifier()\n",
    "best_model.fit(X_train, y_train)\n",
    "\n",
    "# predict for test set\n",
    "test.loc[:,'Clean_Text'] = test.apply(lambda row: cleanText(row['Text']), axis=1)\n",
    "tfid_test = tfidf_vectorizer.transform(test['Clean_Text'])\n",
    "topic_preds_rc_test = best_model.predict(tfid_test)\n",
    "print(topic_preds_rc_test)\n"
   ]
  },
  {
   "cell_type": "code",
   "execution_count": 139,
   "metadata": {},
   "outputs": [
    {
     "name": "stdout",
     "output_type": "stream",
     "text": [
      "{'business': 0, 'tech': 1, 'politics': 2, 'sport': 3, 'entertainment': 4}\n"
     ]
    }
   ],
   "source": [
    "print(label_dict)\n",
    "\n",
    "# dictionary with mapping from category_id to category\n",
    "to_cat_dict = dict(zip(label_dict.values(), label_dict.keys()))\n",
    "submission_df_rc = pd.DataFrame()\n",
    "submission_df_rc.loc[:,'ArticleId'] = test['ArticleId']\n",
    "category_labels = [to_cat_dict[topic_preds_rc_test[i]] for i in range(len(topic_preds_rc_test))]\n",
    "submission_df_rc.loc[:,'Category'] = category_labels\n",
    "\n",
    "submission_df_rc.to_csv('submissionBBC_rc.csv', index=False)"
   ]
  },
  {
   "cell_type": "markdown",
   "metadata": {},
   "source": [
    "RidgeClassifier supervised training algorithm performed really well on the test set with submission scores of <b>0.98639, 0.98639</b>. Next we will try another approach of training a Neural network model with word embeddings and see how it performs as compared to other models."
   ]
  },
  {
   "cell_type": "markdown",
   "metadata": {},
   "source": [
    "### 3.2.2 Comparison with Neural Network model using word embeddings\n",
    "Previously for text preprocessing we used TF-IDF encodings which are sparse, binary representations that are high dimensional and each word/token is independent of each other. This time we are going to explore word embeddings which are dense low-dimensional floating-point vectors and conceptually capture the semantic relationship between words by mapping available text into a structured geometric space. There are 2 ways to use word embeddings:<br>\n",
    "1. Learn word embeddings from the input text together with the weights of the neural network\n",
    "2. Load pretrained word embeddings trained on huge volumes of publicly available text <br>\n",
    "\n",
    "Pretrained word embeddings are useful when we have tasks for which not much text is available to train but otherwise it's better to train the word embeddings specific to the task on hand which is what we will do."
   ]
  },
  {
   "cell_type": "code",
   "execution_count": 174,
   "metadata": {},
   "outputs": [],
   "source": [
    "import tensorflow as tf\n",
    "from tensorflow.keras.preprocessing.text import Tokenizer\n",
    "from tensorflow.keras.preprocessing import sequence\n",
    "from tensorflow.keras import Model, Input\n",
    "from tensorflow.keras.layers import Dense, Embedding, GlobalMaxPool1D, SpatialDropout1D, BatchNormalization, Dropout, Conv1D\n",
    "from tensorflow.keras.preprocessing.text import Tokenizer\n",
    "from tensorflow.keras.optimizers import Adam"
   ]
  },
  {
   "cell_type": "code",
   "execution_count": 175,
   "metadata": {},
   "outputs": [
    {
     "name": "stdout",
     "output_type": "stream",
     "text": [
      "1490 train sequences\n",
      "735 test sequences\n",
      "Average train sequence length: 219\n",
      "Average test sequence length: 227\n"
     ]
    }
   ],
   "source": [
    "max_features = 50000\n",
    "maxlen = 500\n",
    "batch_size = 32\n",
    "embedding_dims = 256\n",
    "\n",
    "test.loc[:,'Clean_Text'] = test.apply(lambda row: cleanText(row['Text']), axis=1)\n",
    "\n",
    "tok = Tokenizer(num_words=max_features)\n",
    "tok.fit_on_texts(list(train.Clean_Text) + list(test.Clean_Text))\n",
    "x_train = tok.texts_to_sequences(train.Clean_Text)\n",
    "x_test = tok.texts_to_sequences(test.Clean_Text)\n",
    "print(len(x_train), 'train sequences')\n",
    "print(len(x_test), 'test sequences')\n",
    "print('Average train sequence length: {}'.format(np.mean(list(map(len, x_train)), dtype=int)))\n",
    "print('Average test sequence length: {}'.format(np.mean(list(map(len, x_test)), dtype=int)))"
   ]
  },
  {
   "cell_type": "code",
   "execution_count": 177,
   "metadata": {},
   "outputs": [
    {
     "name": "stdout",
     "output_type": "stream",
     "text": [
      "x_train shape: (1490, 500)\n",
      "x_test shape: (735, 500)\n"
     ]
    }
   ],
   "source": [
    "x_train = sequence.pad_sequences(x_train, maxlen=maxlen)\n",
    "x_test = sequence.pad_sequences(x_test, maxlen=maxlen)\n",
    "print('x_train shape:', x_train.shape)\n",
    "print('x_test shape:', x_test.shape)"
   ]
  },
  {
   "cell_type": "code",
   "execution_count": 178,
   "metadata": {},
   "outputs": [
    {
     "name": "stdout",
     "output_type": "stream",
     "text": [
      "1490\n",
      "[[1. 0. 0. 0. 0.]\n",
      " [1. 0. 0. 0. 0.]\n",
      " [1. 0. 0. 0. 0.]\n",
      " ...\n",
      " [1. 0. 0. 0. 0.]\n",
      " [0. 1. 0. 0. 0.]\n",
      " [0. 1. 0. 0. 0.]]\n",
      "(1490,)\n",
      "[0. 0. 0. 1. 0. 2. 3. 4. 0. 4. 2. 4. 0. 0. 3. 3. 4. 3. 3. 1.]\n"
     ]
    }
   ],
   "source": [
    "y_train_encoded = tf.keras.utils.to_categorical(train['category_id'])\n",
    "print(len(y_train_encoded))\n",
    "print(y_train_encoded)\n",
    "\n",
    "category_id_arr = np.empty((len(y_train_encoded),))\n",
    "# convert back to category_id\n",
    "for i in range(len(y_train_encoded)):\n",
    "    category_id_arr[i] = np.argmax(y_train_encoded[i,:])\n",
    "\n",
    "print(category_id_arr.shape)\n",
    "print(category_id_arr[:20])"
   ]
  },
  {
   "cell_type": "code",
   "execution_count": 185,
   "metadata": {},
   "outputs": [
    {
     "name": "stdout",
     "output_type": "stream",
     "text": [
      "Build model...\n",
      "Epoch 1/20\n",
      "38/38 [==============================] - 6s 126ms/step - loss: 2.2943 - accuracy: 0.2292 - val_loss: 1.5643 - val_accuracy: 0.2013\n",
      "Epoch 2/20\n",
      "38/38 [==============================] - 5s 119ms/step - loss: 1.2321 - accuracy: 0.5370 - val_loss: 1.4742 - val_accuracy: 0.6779\n",
      "Epoch 3/20\n",
      "38/38 [==============================] - 4s 114ms/step - loss: 0.8001 - accuracy: 0.7178 - val_loss: 1.3596 - val_accuracy: 0.7752\n",
      "Epoch 4/20\n",
      "38/38 [==============================] - 4s 114ms/step - loss: 0.4589 - accuracy: 0.8396 - val_loss: 1.2188 - val_accuracy: 0.8691\n",
      "Epoch 5/20\n",
      "38/38 [==============================] - 4s 113ms/step - loss: 0.3246 - accuracy: 0.9014 - val_loss: 1.0764 - val_accuracy: 0.9161\n",
      "Epoch 6/20\n",
      "38/38 [==============================] - 4s 115ms/step - loss: 0.2313 - accuracy: 0.9284 - val_loss: 0.8980 - val_accuracy: 0.9430\n",
      "Epoch 7/20\n",
      "38/38 [==============================] - 4s 113ms/step - loss: 0.1957 - accuracy: 0.9343 - val_loss: 0.7161 - val_accuracy: 0.9564\n",
      "Epoch 8/20\n",
      "38/38 [==============================] - 4s 112ms/step - loss: 0.1587 - accuracy: 0.9444 - val_loss: 0.5564 - val_accuracy: 0.9631\n",
      "Epoch 9/20\n",
      "38/38 [==============================] - 4s 113ms/step - loss: 0.1372 - accuracy: 0.9510 - val_loss: 0.4087 - val_accuracy: 0.9732\n",
      "Epoch 10/20\n",
      "38/38 [==============================] - 4s 118ms/step - loss: 0.1074 - accuracy: 0.9580 - val_loss: 0.2884 - val_accuracy: 0.9732\n",
      "Epoch 11/20\n",
      "38/38 [==============================] - 4s 114ms/step - loss: 0.0952 - accuracy: 0.9653 - val_loss: 0.2046 - val_accuracy: 0.9799\n",
      "Epoch 12/20\n",
      "38/38 [==============================] - 4s 114ms/step - loss: 0.0886 - accuracy: 0.9735 - val_loss: 0.1517 - val_accuracy: 0.9799\n",
      "Epoch 13/20\n",
      "38/38 [==============================] - 4s 118ms/step - loss: 0.0660 - accuracy: 0.9806 - val_loss: 0.1220 - val_accuracy: 0.9799\n",
      "Epoch 14/20\n",
      "38/38 [==============================] - 4s 114ms/step - loss: 0.0754 - accuracy: 0.9698 - val_loss: 0.1082 - val_accuracy: 0.9832\n",
      "Epoch 15/20\n",
      "38/38 [==============================] - 4s 114ms/step - loss: 0.0484 - accuracy: 0.9824 - val_loss: 0.1033 - val_accuracy: 0.9866\n",
      "Epoch 16/20\n",
      "38/38 [==============================] - 4s 112ms/step - loss: 0.0519 - accuracy: 0.9842 - val_loss: 0.1012 - val_accuracy: 0.9866\n",
      "Epoch 17/20\n",
      "38/38 [==============================] - 4s 112ms/step - loss: 0.0376 - accuracy: 0.9879 - val_loss: 0.1021 - val_accuracy: 0.9832\n",
      "Epoch 18/20\n",
      "38/38 [==============================] - 4s 113ms/step - loss: 0.0674 - accuracy: 0.9718 - val_loss: 0.1071 - val_accuracy: 0.9799\n",
      "Epoch 19/20\n",
      "38/38 [==============================] - 4s 116ms/step - loss: 0.0781 - accuracy: 0.9800 - val_loss: 0.1113 - val_accuracy: 0.9832\n",
      "Epoch 20/20\n",
      "38/38 [==============================] - 4s 115ms/step - loss: 0.0526 - accuracy: 0.9830 - val_loss: 0.1094 - val_accuracy: 0.9799\n"
     ]
    }
   ],
   "source": [
    "seed = 7\n",
    "np.random.seed(seed)\n",
    "\n",
    "print('Build model...')\n",
    "comment_input = Input((maxlen,))\n",
    "\n",
    "# we start off with an efficient embedding layer which maps\n",
    "# our vocab indices into embedding_dims dimensions\n",
    "comment_emb = Embedding(max_features, embedding_dims, input_length=maxlen)(comment_input)\n",
    "\n",
    "# we add a GlobalMaxPool1D, which will extract information from the embeddings\n",
    "# of all words in the document\n",
    "comment_emb = SpatialDropout1D(0.25)(comment_emb)\n",
    "max_emb = GlobalMaxPool1D()(comment_emb)\n",
    "\n",
    "# normalized dense layer followed by dropout\n",
    "main = BatchNormalization()(max_emb)\n",
    "main = Dense(64)(main)\n",
    "main = Dropout(0.5)(main)\n",
    "\n",
    "# We project onto a 5-unit output layer, and softmax:\n",
    "output = Dense(5, activation='softmax')(main)\n",
    "\n",
    "model = Model(inputs=comment_input, outputs=output)\n",
    "\n",
    "model.compile(loss='categorical_crossentropy',\n",
    "              optimizer='adam',\n",
    "              metrics=['accuracy'])\n",
    "\n",
    "epochs = 20\n",
    "hist = model.fit(x_train, y_train_encoded, batch_size=batch_size, epochs=epochs, validation_split=0.2)"
   ]
  },
  {
   "cell_type": "code",
   "execution_count": 181,
   "metadata": {},
   "outputs": [
    {
     "name": "stdout",
     "output_type": "stream",
     "text": [
      "(735, 5)\n",
      "[[5.5897079e-04 1.2761784e-05 7.9825528e-05 9.4424349e-01 5.5105012e-02]\n",
      " [1.2598360e-03 9.9830747e-01 4.3248458e-04 8.5608796e-08 8.7295788e-08]\n",
      " [1.3756036e-09 2.8054808e-10 2.2713996e-08 1.0000000e+00 3.9620653e-09]\n",
      " ...\n",
      " [9.9440789e-01 3.4508528e-03 8.8035647e-04 1.2594106e-03 1.4310501e-06]\n",
      " [9.5989877e-01 2.0720685e-04 1.5551176e-02 2.3351165e-02 9.9161000e-04]\n",
      " [1.9748016e-04 5.8804424e-05 9.9939311e-01 1.1867287e-05 3.3869507e-04]]\n"
     ]
    }
   ],
   "source": [
    "# make predictions given the test set\n",
    "y_test_predicted = model.predict(x_test)\n",
    "print(y_test_predicted.shape)\n",
    "print(y_test_predicted)"
   ]
  },
  {
   "cell_type": "code",
   "execution_count": 182,
   "metadata": {},
   "outputs": [
    {
     "name": "stdout",
     "output_type": "stream",
     "text": [
      "(735,)\n",
      "[3. 1. 3. 0. 3. 3. 2. 2. 4. 0. 0. 1. 2. 1. 4. 3. 4. 1. 4. 4.]\n"
     ]
    }
   ],
   "source": [
    "# the predictions are in one-hot encoding format so we need to convert them back to the category_id\n",
    "category_id_pred = np.empty((len(y_test_predicted),))\n",
    "# convert back to category_id\n",
    "for i in range(len(y_test_predicted)):\n",
    "    category_id_pred[i] = np.argmax(y_test_predicted[i,:])\n",
    "\n",
    "print(category_id_pred.shape)\n",
    "print(category_id_pred[:20])"
   ]
  },
  {
   "cell_type": "code",
   "execution_count": 183,
   "metadata": {},
   "outputs": [],
   "source": [
    "# prepare submission\n",
    "submission_df_nn = pd.DataFrame(columns=['ArticleId', 'Category', 'topic_preds'])\n",
    "submission_df_nn['ArticleId'] = test['ArticleId']\n",
    "submission_df_nn['topic_preds'] = category_id_pred\n",
    "submission_df_nn['Category'] = submission_df_nn['topic_preds'].apply(lambda i: to_cat_dict[i])\n",
    "\n",
    "submission_df_nn = submission_df_nn.drop('topic_preds', axis=1)\n",
    "submission_df_nn.to_csv('submissionBBC_nn.csv', index=False)"
   ]
  },
  {
   "cell_type": "markdown",
   "metadata": {},
   "source": [
    "# Summary and conclusion\n",
    "\n",
    "| Model             | Text Preprocessing| Training set accuracy |Test set accuracy (Public, Private)|\n",
    "| ------------------| ----------------- | ----------------------|-----------------------------------|\n",
    "| NMF               | TF-IDF            |        0.9463         |            0.70748, 0.70748       |\n",
    "| RidgeClassifier   | TF-IDF            |        0.9805         |            0.98639, 0.98639       |\n",
    "| Neural Network    | Word embeddings   |        0.9830         |            0.97959, 0.97959                       |\n",
    "\n",
    "As can be seen from the above comparison table, we get the highest accuracy with the Supervised training algorithm: <b>RidgeClassifier</b> with text preprocessed to TF-IDF encodings, followed by a supervised <b>Neural network</b> model with word embeddings and lastly we have the unsupervised training model <b>NMF</b> with TF-IDF encodings which got a reasonable score on training set but overfitted to the test set. <br>\n",
    "So to conclude Supervised training models performed better than the unsupervised training algorithm for this task with the given dataset. We can also experiment further by using other unsupervised learning algorithms and we can also try other text preprocessing techniques like using pretrained word embeddings."
   ]
  },
  {
   "cell_type": "markdown",
   "metadata": {},
   "source": [
    "# References\n",
    "https://scikit-learn.org/stable/auto_examples/applications/plot_topics_extraction_with_nmf_lda.html"
   ]
  }
 ],
 "metadata": {
  "kernelspec": {
   "display_name": "Python 3",
   "language": "python",
   "name": "python3"
  },
  "language_info": {
   "codemirror_mode": {
    "name": "ipython",
    "version": 3
   },
   "file_extension": ".py",
   "mimetype": "text/x-python",
   "name": "python",
   "nbconvert_exporter": "python",
   "pygments_lexer": "ipython3",
   "version": "3.7.1"
  }
 },
 "nbformat": 4,
 "nbformat_minor": 2
}
